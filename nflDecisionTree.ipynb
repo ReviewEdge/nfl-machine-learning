{
 "cells": [
  {
   "cell_type": "code",
   "execution_count": null,
   "id": "a19e9d6c-e86d-427c-8148-73410af56d93",
   "metadata": {},
   "outputs": [],
   "source": [
    "%matplotlib inline\n",
    "\n",
    "# Essentials: Data Cleansing and ETL\n",
    "import pandas as pd\n",
    "import numpy as np\n",
    "\n",
    "# Plotting\n",
    "import matplotlib.pyplot as plt\n",
    "import matplotlib.patches as patches\n",
    "from matplotlib.legend_handler import HandlerLine2D\n",
    "\n",
    "from sklearn.tree import DecisionTreeClassifier\n",
    "\n",
    "from sklearn.metrics import roc_curve, auc # good for evaluation of binary classification problems\n",
    "from sklearn.model_selection import train_test_split"
   ]
  },
  {
   "cell_type": "code",
   "execution_count": null,
   "id": "78660738-641c-4bdd-9b8f-ef0014b9aeae",
   "metadata": {},
   "outputs": [],
   "source": [
    "df = pd.read_csv('nflData.csv', sep=\",\")"
   ]
  },
  {
   "cell_type": "code",
   "execution_count": null,
   "id": "7e85e257-ab72-45d8-8ff5-1d4ac88b7c89",
   "metadata": {},
   "outputs": [],
   "source": [
    "print(\"Rows: \",len(df))"
   ]
  },
  {
   "cell_type": "code",
   "execution_count": null,
   "id": "7b9d92a4-0d8d-49f0-80be-f5e3c100cf20",
   "metadata": {},
   "outputs": [],
   "source": [
    "# take the dataframe for plays above and define particular columns we want\n",
    "play_attr = ['game_id','qtr','game_seconds_remaining','yardline_100','ydstogo','drive','down','play_type','goal_to_go',\n",
    "             'posteam','defteam','posteam_score', 'defteam_score', 'score_differential','posteam_timeouts_remaining','no_score_prob',\n",
    "             'opp_fg_prob','opp_safety_prob','home_team']\n",
    "plays = df[play_attr]\n",
    "\n",
    "plays = plays[(plays.play_type == \"run\")|(plays.play_type==\"pass\")]"
   ]
  },
  {
   "cell_type": "code",
   "execution_count": null,
   "id": "1f8b1fea-e932-48a4-bd90-88d89aeaa1ec",
   "metadata": {},
   "outputs": [],
   "source": [
    "# pos team is winning\n",
    "plays['CurrentScoreBool'] = plays.apply(lambda x: 1 if x.score_differential > 0 else 0, axis=1)\n",
    "\n",
    "# pos team is home team\n",
    "plays['Home'] = plays.apply(lambda x: 1 if x.home_team == x.posteam else 0, axis=1)\n",
    "\n",
    "# final 2 mins of half\n",
    "plays['TwoMinuteDrill'] = plays.apply(lambda x: 1 if (\n",
    "    (((x.game_seconds_remaining <= 0)&(x.game_seconds_remaining >= 120))|((x.game_seconds_remaining <= 1920)&(x.game_seconds_remaining >= 1800)))&\n",
    "    (x.CurrentScoreBool == 0)) else 0, axis=1)\n",
    "\n",
    "\n",
    "plays['play_type'] = plays.apply(lambda x: 1 if x.play_type == \"pass\" else 0, axis=1)\n"
   ]
  },
  {
   "cell_type": "code",
   "execution_count": null,
   "id": "b98319d3-1c55-450e-904f-3d2d68af4d9b",
   "metadata": {},
   "outputs": [],
   "source": [
    "# need to clean float data and transfer to integer\n",
    "plays.game_seconds_remaining = plays.game_seconds_remaining.fillna(0).astype(int)\n",
    "plays.yardline_100 = plays.yardline_100.fillna(0).astype(int)\n",
    "plays.down = plays.down.fillna(0).astype(int)\n",
    "plays.posteam_score = plays.posteam_score.fillna(0).astype(int)\n",
    "plays.defteam_score = plays.defteam_score.fillna(0).astype(int)\n",
    "# plays.RushingMean = plays.RushingMean.fillna(0).astype(int)\n",
    "# plays.PassingMean = plays.PassingMean.fillna(0).astype(int)\n",
    "plays.score_differential = plays.score_differential.fillna(0).astype(int)\n",
    "plays.goal_to_go = plays.goal_to_go.fillna(0).astype(int)"
   ]
  },
  {
   "cell_type": "code",
   "execution_count": null,
   "id": "4c85f69b-b95f-46b6-9a47-15d1fe51786b",
   "metadata": {},
   "outputs": [],
   "source": [
    "# changing float64 to float32\n",
    "plays.no_score_prob = plays.no_score_prob.fillna(0).astype(np.float32)\n",
    "plays.opp_fg_prob = plays.opp_fg_prob.fillna(0).astype(np.float32)\n",
    "plays.opp_safety_prob = plays.opp_safety_prob.fillna(0).astype(np.float32)\n",
    "\n",
    "\n",
    "plays.no_score_prob = pd.qcut(plays['no_score_prob'], 5, labels=False)\n",
    "plays.opp_fg_prob = pd.qcut(plays['opp_fg_prob'], 5, labels=False)\n",
    "plays.opp_safety_prob = pd.qcut(plays['opp_safety_prob'], 5, labels=False)"
   ]
  },
  {
   "cell_type": "code",
   "execution_count": null,
   "id": "786db87e-66c4-4c74-9d6f-b697ab778f28",
   "metadata": {},
   "outputs": [],
   "source": [
    "# drop unneeded columns to begin to de-clutter the set\n",
    "plays = plays[plays.down != 0]\n",
    "plays = plays.drop(columns=['home_team'])\n",
    "\n",
    "plays.head(5)"
   ]
  },
  {
   "cell_type": "code",
   "execution_count": null,
   "id": "92993a9c-19a0-4c3e-915b-e5c39e2459f0",
   "metadata": {},
   "outputs": [],
   "source": [
    "# TODO: add back defteam\n",
    "\n",
    "# Define our prediction data\n",
    "plays_predictors = [\n",
    "'game_id','qtr','game_seconds_remaining','yardline_100',\n",
    "'ydstogo','drive','down', 'goal_to_go','posteam_score', 'defteam_score', \n",
    "'score_differential','posteam_timeouts_remaining',\n",
    "'no_score_prob','opp_fg_prob','opp_safety_prob']\n",
    "\n",
    "\n",
    "# plays_predictors = [\n",
    "# 'game_id','qtr','game_seconds_remaining','yardline_100', 'ydstogo','drive','down', 'goal_to_go', 'posteam_score', 'defteam_score']\n",
    "\n",
    "\n",
    "X = plays[plays_predictors]\n",
    "\n",
    "# Define the prediction target: PlayType\n",
    "y = plays.play_type"
   ]
  },
  {
   "cell_type": "code",
   "execution_count": null,
   "id": "2a4d2bc3-0aa8-43f1-b8d3-d06c1ff00fba",
   "metadata": {},
   "outputs": [],
   "source": [
    "# Split our data into training and test data for both our target and prediction data sets\n",
    "# random state = 0 means we get same result everytime if we want to change later\n",
    "train_X, val_X, train_y, val_y = train_test_split(X, y,random_state = 0)"
   ]
  },
  {
   "cell_type": "code",
   "execution_count": null,
   "id": "ddeb8510-3bd8-4364-bf42-d5f65bcbc815",
   "metadata": {},
   "outputs": [],
   "source": [
    "# Decision Tree Classifier\n",
    "desc_tree = DecisionTreeClassifier()\n",
    "desc_tree.fit(train_X, train_y)\n",
    "\n",
    "dt_predictions = desc_tree.predict(val_X)\n",
    "\n",
    "print(dt_predictions[:10])\n",
    "\n",
    "false_positive_rate, true_positive_rate, thresholds = roc_curve(val_y, dt_predictions)\n",
    "dt_roc_auc = auc(false_positive_rate, true_positive_rate)"
   ]
  },
  {
   "cell_type": "code",
   "execution_count": null,
   "id": "40bf2b5b-19a0-45de-ad6f-9f8098a0aa59",
   "metadata": {},
   "outputs": [],
   "source": [
    "print(dt_roc_auc)"
   ]
  },
  {
   "cell_type": "code",
   "execution_count": null,
   "id": "50abda3e-a3ad-4f66-8673-3196975d80e6",
   "metadata": {},
   "outputs": [],
   "source": []
  }
 ],
 "metadata": {
  "kernelspec": {
   "display_name": "Python 3 (ipykernel)",
   "language": "python",
   "name": "python3"
  },
  "language_info": {
   "codemirror_mode": {
    "name": "ipython",
    "version": 3
   },
   "file_extension": ".py",
   "mimetype": "text/x-python",
   "name": "python",
   "nbconvert_exporter": "python",
   "pygments_lexer": "ipython3",
   "version": "3.9.13"
  }
 },
 "nbformat": 4,
 "nbformat_minor": 5
}
