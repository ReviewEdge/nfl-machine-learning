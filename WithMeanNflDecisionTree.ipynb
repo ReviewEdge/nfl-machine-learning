{
 "cells": [
  {
   "cell_type": "code",
   "execution_count": 1,
   "id": "a19e9d6c-e86d-427c-8148-73410af56d93",
   "metadata": {},
   "outputs": [],
   "source": [
    "%matplotlib inline\n",
    "\n",
    "# Essentials: Data Cleansing and ETL\n",
    "import pandas as pd\n",
    "import numpy as np\n",
    "\n",
    "# Plotting\n",
    "import matplotlib.pyplot as plt\n",
    "import matplotlib.patches as patches\n",
    "from matplotlib.legend_handler import HandlerLine2D\n",
    "\n",
    "from sklearn.tree import DecisionTreeClassifier\n",
    "\n",
    "from sklearn.metrics import roc_curve, auc # good for evaluation of binary classification problems\n",
    "from sklearn.model_selection import train_test_split"
   ]
  },
  {
   "cell_type": "code",
   "execution_count": 2,
   "id": "78660738-641c-4bdd-9b8f-ef0014b9aeae",
   "metadata": {},
   "outputs": [
    {
     "name": "stderr",
     "output_type": "stream",
     "text": [
      "C:\\Users\\RICHARDSONLG20\\AppData\\Local\\Temp\\ipykernel_3288\\104963401.py:1: DtypeWarning: Columns (42,166,167,168,169,174,175,178,179,182,183,188,189,190,191,194,195,203,204,205,218,219,220,231,232,233,238,240,241,249) have mixed types. Specify dtype option on import or set low_memory=False.\n",
      "  df = pd.read_csv('nflData.csv', sep=\",\")\n"
     ]
    }
   ],
   "source": [
    "df = pd.read_csv('nflData.csv', sep=\",\")"
   ]
  },
  {
   "cell_type": "code",
   "execution_count": 3,
   "id": "7e85e257-ab72-45d8-8ff5-1d4ac88b7c89",
   "metadata": {},
   "outputs": [
    {
     "name": "stdout",
     "output_type": "stream",
     "text": [
      "Rows:  449371\n"
     ]
    }
   ],
   "source": [
    "print(\"Rows: \",len(df))"
   ]
  },
  {
   "cell_type": "code",
   "execution_count": 4,
   "id": "84e73d7c-874b-45b2-95fe-68f33b3004c4",
   "metadata": {},
   "outputs": [
    {
     "data": {
      "text/html": [
       "<div>\n",
       "<style scoped>\n",
       "    .dataframe tbody tr th:only-of-type {\n",
       "        vertical-align: middle;\n",
       "    }\n",
       "\n",
       "    .dataframe tbody tr th {\n",
       "        vertical-align: top;\n",
       "    }\n",
       "\n",
       "    .dataframe thead th {\n",
       "        text-align: right;\n",
       "    }\n",
       "</style>\n",
       "<table border=\"1\" class=\"dataframe\">\n",
       "  <thead>\n",
       "    <tr style=\"text-align: right;\">\n",
       "      <th></th>\n",
       "      <th>game_id</th>\n",
       "      <th>qtr</th>\n",
       "      <th>posteam</th>\n",
       "      <th>rushing_mean</th>\n",
       "      <th>passing_mean</th>\n",
       "    </tr>\n",
       "  </thead>\n",
       "  <tbody>\n",
       "    <tr>\n",
       "      <th>0</th>\n",
       "      <td>2009091000</td>\n",
       "      <td>1</td>\n",
       "      <td>PIT</td>\n",
       "      <td>3.833333</td>\n",
       "      <td>5.375000</td>\n",
       "    </tr>\n",
       "    <tr>\n",
       "      <th>1</th>\n",
       "      <td>2009091000</td>\n",
       "      <td>1</td>\n",
       "      <td>TEN</td>\n",
       "      <td>26.666667</td>\n",
       "      <td>35.555556</td>\n",
       "    </tr>\n",
       "    <tr>\n",
       "      <th>2</th>\n",
       "      <td>2009091000</td>\n",
       "      <td>2</td>\n",
       "      <td>PIT</td>\n",
       "      <td>26.750000</td>\n",
       "      <td>24.625000</td>\n",
       "    </tr>\n",
       "    <tr>\n",
       "      <th>3</th>\n",
       "      <td>2009091000</td>\n",
       "      <td>2</td>\n",
       "      <td>TEN</td>\n",
       "      <td>24.400000</td>\n",
       "      <td>35.307692</td>\n",
       "    </tr>\n",
       "    <tr>\n",
       "      <th>4</th>\n",
       "      <td>2009091000</td>\n",
       "      <td>3</td>\n",
       "      <td>PIT</td>\n",
       "      <td>7.625000</td>\n",
       "      <td>7.500000</td>\n",
       "    </tr>\n",
       "    <tr>\n",
       "      <th>5</th>\n",
       "      <td>2009091000</td>\n",
       "      <td>3</td>\n",
       "      <td>TEN</td>\n",
       "      <td>14.222222</td>\n",
       "      <td>23.666667</td>\n",
       "    </tr>\n",
       "    <tr>\n",
       "      <th>6</th>\n",
       "      <td>2009091000</td>\n",
       "      <td>4</td>\n",
       "      <td>PIT</td>\n",
       "      <td>55.000000</td>\n",
       "      <td>29.750000</td>\n",
       "    </tr>\n",
       "    <tr>\n",
       "      <th>7</th>\n",
       "      <td>2009091000</td>\n",
       "      <td>4</td>\n",
       "      <td>TEN</td>\n",
       "      <td>9.400000</td>\n",
       "      <td>22.750000</td>\n",
       "    </tr>\n",
       "    <tr>\n",
       "      <th>8</th>\n",
       "      <td>2009091000</td>\n",
       "      <td>5</td>\n",
       "      <td>PIT</td>\n",
       "      <td>21.500000</td>\n",
       "      <td>29.285714</td>\n",
       "    </tr>\n",
       "    <tr>\n",
       "      <th>9</th>\n",
       "      <td>2009091300</td>\n",
       "      <td>1</td>\n",
       "      <td>ATL</td>\n",
       "      <td>20.500000</td>\n",
       "      <td>19.600000</td>\n",
       "    </tr>\n",
       "  </tbody>\n",
       "</table>\n",
       "</div>"
      ],
      "text/plain": [
       "      game_id  qtr posteam  rushing_mean  passing_mean\n",
       "0  2009091000    1     PIT      3.833333      5.375000\n",
       "1  2009091000    1     TEN     26.666667     35.555556\n",
       "2  2009091000    2     PIT     26.750000     24.625000\n",
       "3  2009091000    2     TEN     24.400000     35.307692\n",
       "4  2009091000    3     PIT      7.625000      7.500000\n",
       "5  2009091000    3     TEN     14.222222     23.666667\n",
       "6  2009091000    4     PIT     55.000000     29.750000\n",
       "7  2009091000    4     TEN      9.400000     22.750000\n",
       "8  2009091000    5     PIT     21.500000     29.285714\n",
       "9  2009091300    1     ATL     20.500000     19.600000"
      ]
     },
     "execution_count": 4,
     "metadata": {},
     "output_type": "execute_result"
    }
   ],
   "source": [
    "# Get average results for offensive plays by game for model\n",
    "# to preserve the dataframe's shape (with GameID being unique), I'm going to use a split-apply-merge strategy\n",
    "\n",
    "# Split - from origional DF: Get 2 DF's for plays that are labeled Run or Pass\n",
    "r_off_agg = df[(df.play_type == 'run')]\n",
    "p_off_agg = df[(df.play_type == 'pass')]\n",
    "\n",
    "# Apply - groupby aggregation to find the Median yards by game, team, PlayType, and qtr\n",
    "r_off_agg = r_off_agg.groupby(['game_id','qtr','posteam'])['ydsnet'].mean().reset_index()\n",
    "p_off_agg = p_off_agg.groupby(['game_id','qtr','posteam'])['ydsnet'].mean().reset_index()\n",
    "\n",
    "r_off_agg = r_off_agg.rename(columns={'ydsnet':'rushing_mean'}) # Rename the columns for clarity\n",
    "p_off_agg = p_off_agg.rename(columns={'ydsnet':'passing_mean'})\n",
    "\n",
    "# Merge - Combine the Away and Home averages into one dataframe\n",
    "off_agg = pd.merge(r_off_agg,\n",
    "                 p_off_agg,\n",
    "                 left_on=['game_id','qtr','posteam'],\n",
    "                 right_on=['game_id','qtr','posteam'],\n",
    "                 how='outer')\n",
    "\n",
    "off_agg.head(10)"
   ]
  },
  {
   "cell_type": "code",
   "execution_count": 5,
   "id": "f33313d5-2adb-4e7e-8255-fca054bafc03",
   "metadata": {},
   "outputs": [],
   "source": [
    "# add data regarding offensive stats\n",
    "df = pd.merge(df,\n",
    "                off_agg,\n",
    "                left_on=['game_id','qtr','posteam'],\n",
    "                right_on=['game_id','qtr','posteam'],\n",
    "                how='left')"
   ]
  },
  {
   "cell_type": "code",
   "execution_count": 6,
   "id": "7b9d92a4-0d8d-49f0-80be-f5e3c100cf20",
   "metadata": {},
   "outputs": [],
   "source": [
    "# take the dataframe for plays above and define particular columns we want\n",
    "play_attr = ['game_id','qtr','game_seconds_remaining','yardline_100','ydstogo','drive','down','play_type','goal_to_go',\n",
    "             'posteam','defteam','posteam_score', 'defteam_score', 'score_differential','posteam_timeouts_remaining','no_score_prob',\n",
    "             'opp_fg_prob','opp_safety_prob','home_team', 'rushing_mean', 'passing_mean']\n",
    "plays = df[play_attr]\n",
    "\n",
    "df = df[(df.play_type == \"run\")|(df.play_type==\"pass\")]"
   ]
  },
  {
   "cell_type": "code",
   "execution_count": 7,
   "id": "1f8b1fea-e932-48a4-bd90-88d89aeaa1ec",
   "metadata": {},
   "outputs": [],
   "source": [
    "# pos team is winning\n",
    "plays['CurrentScoreBool'] = plays.apply(lambda x: 1 if x.score_differential > 0 else 0, axis=1)\n",
    "\n",
    "# pos team is home team\n",
    "plays['Home'] = plays.apply(lambda x: 1 if x.home_team == x.posteam else 0, axis=1)\n",
    "\n",
    "# final 2 mins of half\n",
    "plays['TwoMinuteDrill'] = plays.apply(lambda x: 1 if (\n",
    "    (((x.game_seconds_remaining <= 0)&(x.game_seconds_remaining >= 120))|((x.game_seconds_remaining <= 1920)&(x.game_seconds_remaining >= 1800)))&\n",
    "    (x.CurrentScoreBool == 0)) else 0, axis=1)\n",
    "\n",
    "\n",
    "plays['play_type'] = plays.apply(lambda x: 1 if x.play_type == \"pass\" else 0, axis=1)\n",
    "\n",
    "\n"
   ]
  },
  {
   "cell_type": "code",
   "execution_count": 8,
   "id": "b98319d3-1c55-450e-904f-3d2d68af4d9b",
   "metadata": {},
   "outputs": [
    {
     "ename": "AttributeError",
     "evalue": "'DataFrame' object has no attribute 'RushingMean'",
     "output_type": "error",
     "traceback": [
      "\u001b[1;31m---------------------------------------------------------------------------\u001b[0m",
      "\u001b[1;31mAttributeError\u001b[0m                            Traceback (most recent call last)",
      "\u001b[1;32m~\\AppData\\Local\\Temp\\ipykernel_3288\\1454941437.py\u001b[0m in \u001b[0;36m<module>\u001b[1;34m\u001b[0m\n\u001b[0;32m      5\u001b[0m \u001b[0mplays\u001b[0m\u001b[1;33m.\u001b[0m\u001b[0mposteam_score\u001b[0m \u001b[1;33m=\u001b[0m \u001b[0mplays\u001b[0m\u001b[1;33m.\u001b[0m\u001b[0mposteam_score\u001b[0m\u001b[1;33m.\u001b[0m\u001b[0mfillna\u001b[0m\u001b[1;33m(\u001b[0m\u001b[1;36m0\u001b[0m\u001b[1;33m)\u001b[0m\u001b[1;33m.\u001b[0m\u001b[0mastype\u001b[0m\u001b[1;33m(\u001b[0m\u001b[0mint\u001b[0m\u001b[1;33m)\u001b[0m\u001b[1;33m\u001b[0m\u001b[1;33m\u001b[0m\u001b[0m\n\u001b[0;32m      6\u001b[0m \u001b[0mplays\u001b[0m\u001b[1;33m.\u001b[0m\u001b[0mdefteam_score\u001b[0m \u001b[1;33m=\u001b[0m \u001b[0mplays\u001b[0m\u001b[1;33m.\u001b[0m\u001b[0mdefteam_score\u001b[0m\u001b[1;33m.\u001b[0m\u001b[0mfillna\u001b[0m\u001b[1;33m(\u001b[0m\u001b[1;36m0\u001b[0m\u001b[1;33m)\u001b[0m\u001b[1;33m.\u001b[0m\u001b[0mastype\u001b[0m\u001b[1;33m(\u001b[0m\u001b[0mint\u001b[0m\u001b[1;33m)\u001b[0m\u001b[1;33m\u001b[0m\u001b[1;33m\u001b[0m\u001b[0m\n\u001b[1;32m----> 7\u001b[1;33m \u001b[0mplays\u001b[0m\u001b[1;33m.\u001b[0m\u001b[0mRushingMean\u001b[0m \u001b[1;33m=\u001b[0m \u001b[0mplays\u001b[0m\u001b[1;33m.\u001b[0m\u001b[0mRushingMean\u001b[0m\u001b[1;33m.\u001b[0m\u001b[0mfillna\u001b[0m\u001b[1;33m(\u001b[0m\u001b[1;36m0\u001b[0m\u001b[1;33m)\u001b[0m\u001b[1;33m.\u001b[0m\u001b[0mastype\u001b[0m\u001b[1;33m(\u001b[0m\u001b[0mint\u001b[0m\u001b[1;33m)\u001b[0m\u001b[1;33m\u001b[0m\u001b[1;33m\u001b[0m\u001b[0m\n\u001b[0m\u001b[0;32m      8\u001b[0m \u001b[0mplays\u001b[0m\u001b[1;33m.\u001b[0m\u001b[0mPassingMean\u001b[0m \u001b[1;33m=\u001b[0m \u001b[0mplays\u001b[0m\u001b[1;33m.\u001b[0m\u001b[0mPassingMean\u001b[0m\u001b[1;33m.\u001b[0m\u001b[0mfillna\u001b[0m\u001b[1;33m(\u001b[0m\u001b[1;36m0\u001b[0m\u001b[1;33m)\u001b[0m\u001b[1;33m.\u001b[0m\u001b[0mastype\u001b[0m\u001b[1;33m(\u001b[0m\u001b[0mint\u001b[0m\u001b[1;33m)\u001b[0m\u001b[1;33m\u001b[0m\u001b[1;33m\u001b[0m\u001b[0m\n\u001b[0;32m      9\u001b[0m \u001b[0mplays\u001b[0m\u001b[1;33m.\u001b[0m\u001b[0mscore_differential\u001b[0m \u001b[1;33m=\u001b[0m \u001b[0mplays\u001b[0m\u001b[1;33m.\u001b[0m\u001b[0mscore_differential\u001b[0m\u001b[1;33m.\u001b[0m\u001b[0mfillna\u001b[0m\u001b[1;33m(\u001b[0m\u001b[1;36m0\u001b[0m\u001b[1;33m)\u001b[0m\u001b[1;33m.\u001b[0m\u001b[0mastype\u001b[0m\u001b[1;33m(\u001b[0m\u001b[0mint\u001b[0m\u001b[1;33m)\u001b[0m\u001b[1;33m\u001b[0m\u001b[1;33m\u001b[0m\u001b[0m\n",
      "\u001b[1;32m~\\Anaconda3\\lib\\site-packages\\pandas\\core\\generic.py\u001b[0m in \u001b[0;36m__getattr__\u001b[1;34m(self, name)\u001b[0m\n\u001b[0;32m   5573\u001b[0m         ):\n\u001b[0;32m   5574\u001b[0m             \u001b[1;32mreturn\u001b[0m \u001b[0mself\u001b[0m\u001b[1;33m[\u001b[0m\u001b[0mname\u001b[0m\u001b[1;33m]\u001b[0m\u001b[1;33m\u001b[0m\u001b[1;33m\u001b[0m\u001b[0m\n\u001b[1;32m-> 5575\u001b[1;33m         \u001b[1;32mreturn\u001b[0m \u001b[0mobject\u001b[0m\u001b[1;33m.\u001b[0m\u001b[0m__getattribute__\u001b[0m\u001b[1;33m(\u001b[0m\u001b[0mself\u001b[0m\u001b[1;33m,\u001b[0m \u001b[0mname\u001b[0m\u001b[1;33m)\u001b[0m\u001b[1;33m\u001b[0m\u001b[1;33m\u001b[0m\u001b[0m\n\u001b[0m\u001b[0;32m   5576\u001b[0m \u001b[1;33m\u001b[0m\u001b[0m\n\u001b[0;32m   5577\u001b[0m     \u001b[1;32mdef\u001b[0m \u001b[0m__setattr__\u001b[0m\u001b[1;33m(\u001b[0m\u001b[0mself\u001b[0m\u001b[1;33m,\u001b[0m \u001b[0mname\u001b[0m\u001b[1;33m:\u001b[0m \u001b[0mstr\u001b[0m\u001b[1;33m,\u001b[0m \u001b[0mvalue\u001b[0m\u001b[1;33m)\u001b[0m \u001b[1;33m->\u001b[0m \u001b[1;32mNone\u001b[0m\u001b[1;33m:\u001b[0m\u001b[1;33m\u001b[0m\u001b[1;33m\u001b[0m\u001b[0m\n",
      "\u001b[1;31mAttributeError\u001b[0m: 'DataFrame' object has no attribute 'RushingMean'"
     ]
    }
   ],
   "source": [
    "# need to clean float data and transfer to integer\n",
    "plays.game_seconds_remaining = plays.game_seconds_remaining.fillna(0).astype(int)\n",
    "plays.yardline_100 = plays.yardline_100.fillna(0).astype(int)\n",
    "plays.down = plays.down.fillna(0).astype(int)\n",
    "plays.posteam_score = plays.posteam_score.fillna(0).astype(int)\n",
    "plays.defteam_score = plays.defteam_score.fillna(0).astype(int)\n",
    "plays.RushingMean = plays.RushingMean.fillna(0).astype(int)\n",
    "plays.PassingMean = plays.PassingMean.fillna(0).astype(int)\n",
    "plays.score_differential = plays.score_differential.fillna(0).astype(int)\n",
    "plays.goal_to_go = plays.goal_to_go.fillna(0).astype(int)"
   ]
  },
  {
   "cell_type": "code",
   "execution_count": null,
   "id": "4c85f69b-b95f-46b6-9a47-15d1fe51786b",
   "metadata": {},
   "outputs": [],
   "source": [
    "# changing float64 to float32\n",
    "plays.no_score_prob = plays.no_score_prob.fillna(0).astype(np.float32)\n",
    "plays.opp_fg_prob = plays.opp_fg_prob.fillna(0).astype(np.float32)\n",
    "plays.opp_safety_prob = plays.opp_safety_prob.fillna(0).astype(np.float32)\n",
    "\n",
    "\n",
    "plays.no_score_prob = pd.qcut(plays['no_score_prob'], 5, labels=False)\n",
    "plays.opp_fg_prob = pd.qcut(plays['opp_fg_prob'], 5, labels=False)\n",
    "plays.opp_safety_prob = pd.qcut(plays['opp_safety_prob'], 5, labels=False)"
   ]
  },
  {
   "cell_type": "code",
   "execution_count": null,
   "id": "786db87e-66c4-4c74-9d6f-b697ab778f28",
   "metadata": {},
   "outputs": [],
   "source": [
    "# drop unneeded columns to begin to de-clutter the set\n",
    "plays = plays[plays.down != 0]\n",
    "plays = plays.drop(columns=['home_team'])\n",
    "\n",
    "plays.head(5)"
   ]
  },
  {
   "cell_type": "code",
   "execution_count": null,
   "id": "c46f48f4-6d09-4b6a-b916-b47531cc8d9a",
   "metadata": {},
   "outputs": [],
   "source": [
    "plays.dropna(inplace=True)"
   ]
  },
  {
   "cell_type": "code",
   "execution_count": null,
   "id": "92993a9c-19a0-4c3e-915b-e5c39e2459f0",
   "metadata": {},
   "outputs": [],
   "source": [
    "# TODO: add back defteam\n",
    "\n",
    "plays = plays.reset_index()\n",
    "\n",
    "# Define our prediction data\n",
    "plays_predictors = [\n",
    "'game_id','qtr','game_seconds_remaining','yardline_100',\n",
    "'ydstogo','drive','down', 'goal_to_go','posteam_score', 'defteam_score', \n",
    "'score_differential','posteam_timeouts_remaining',\n",
    "'no_score_prob','opp_fg_prob','opp_safety_prob', 'rushing_mean', 'passing_mean']\n",
    "\n",
    "\n",
    "# plays_predictors = [\n",
    "# 'game_id','qtr','game_seconds_remaining','yardline_100', 'ydstogo','drive','down', 'goal_to_go', 'posteam_score', 'defteam_score']\n",
    "\n",
    "\n",
    "X = plays[plays_predictors]\n",
    "\n",
    "# Define the prediction target: PlayType\n",
    "y = plays.play_type"
   ]
  },
  {
   "cell_type": "code",
   "execution_count": null,
   "id": "2a4d2bc3-0aa8-43f1-b8d3-d06c1ff00fba",
   "metadata": {},
   "outputs": [],
   "source": [
    "# Split our data into training and test data for both our target and prediction data sets\n",
    "# random state = 0 means we get same result everytime if we want to change later\n",
    "train_X, val_X, train_y, val_y = train_test_split(X, y,random_state = 0)"
   ]
  },
  {
   "cell_type": "code",
   "execution_count": null,
   "id": "ddeb8510-3bd8-4364-bf42-d5f65bcbc815",
   "metadata": {},
   "outputs": [],
   "source": [
    "# print(np.any(np.isnan(train_x)))\n",
    "# print(np.all(np.isfinite(train_x)))\n",
    "\n",
    "\n",
    "# Decision Tree Classifier\n",
    "desc_tree = DecisionTreeClassifier()\n",
    "desc_tree.fit(train_X, train_y)\n",
    "\n",
    "dt_predictions = desc_tree.predict(val_X)\n",
    "\n",
    "print(dt_predictions[:10])\n",
    "\n",
    "false_positive_rate, true_positive_rate, thresholds = roc_curve(val_y, dt_predictions)\n",
    "dt_roc_auc = auc(false_positive_rate, true_positive_rate)"
   ]
  },
  {
   "cell_type": "code",
   "execution_count": null,
   "id": "40bf2b5b-19a0-45de-ad6f-9f8098a0aa59",
   "metadata": {},
   "outputs": [],
   "source": [
    "print(dt_roc_auc)"
   ]
  },
  {
   "cell_type": "code",
   "execution_count": null,
   "id": "50abda3e-a3ad-4f66-8673-3196975d80e6",
   "metadata": {},
   "outputs": [],
   "source": [
    "for i in range(1000, 1010):\n",
    "    p = \"pass\"\n",
    "    if dt_predictions[i] == 0:\n",
    "        p = \"run\"\n",
    "    actual = \"pass\"\n",
    "    check = \"✔️\"\n",
    "    if plays.iloc[i][\"play_type\"] == 0:\n",
    "        actual = \"run\"\n",
    "    if p != actual:\n",
    "        check = \"❌\"\n",
    "    print(f\"Play: {plays.iloc[i]}\\n\\nPrediction: {p.upper()}\\tActual: {actual.upper()}\\t{check}\\n\\n\")\n"
   ]
  },
  {
   "cell_type": "code",
   "execution_count": null,
   "id": "234799c3-02c5-423a-8dbb-666dd88bb8a8",
   "metadata": {},
   "outputs": [],
   "source": [
    "importances = pd.DataFrame({'feature':train_X.columns,'importance':np.round(desc_tree.feature_importances_,3)})\n",
    "importances = importances.sort_values('importance',ascending=False).set_index('feature')\n",
    "importances.plot.bar(figsize=(20,9),rot=90)"
   ]
  },
  {
   "cell_type": "code",
   "execution_count": null,
   "id": "ae74ae38-eb94-4d70-a649-f1456c226213",
   "metadata": {},
   "outputs": [],
   "source": []
  }
 ],
 "metadata": {
  "kernelspec": {
   "display_name": "Python 3 (ipykernel)",
   "language": "python",
   "name": "python3"
  },
  "language_info": {
   "codemirror_mode": {
    "name": "ipython",
    "version": 3
   },
   "file_extension": ".py",
   "mimetype": "text/x-python",
   "name": "python",
   "nbconvert_exporter": "python",
   "pygments_lexer": "ipython3",
   "version": "3.9.13"
  }
 },
 "nbformat": 4,
 "nbformat_minor": 5
}
