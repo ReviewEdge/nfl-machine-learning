{
 "cells": [
  {
   "cell_type": "code",
   "execution_count": 1,
   "id": "a19e9d6c-e86d-427c-8148-73410af56d93",
   "metadata": {},
   "outputs": [],
   "source": [
    "%matplotlib inline\n",
    "\n",
    "# Essentials: Data Cleansing and ETL\n",
    "import pandas as pd\n",
    "import numpy as np\n",
    "\n",
    "# Plotting\n",
    "import matplotlib.pyplot as plt\n",
    "import matplotlib.patches as patches\n",
    "from matplotlib.legend_handler import HandlerLine2D\n",
    "\n",
    "from sklearn.tree import DecisionTreeClassifier\n",
    "\n",
    "from sklearn.metrics import roc_curve, auc # good for evaluation of binary classification problems\n",
    "from sklearn.model_selection import train_test_split"
   ]
  },
  {
   "cell_type": "code",
   "execution_count": 2,
   "id": "78660738-641c-4bdd-9b8f-ef0014b9aeae",
   "metadata": {},
   "outputs": [
    {
     "name": "stderr",
     "output_type": "stream",
     "text": [
      "C:\\Users\\RICHARDSONLG20\\AppData\\Local\\Temp\\ipykernel_24360\\104963401.py:1: DtypeWarning: Columns (42,166,167,168,169,174,175,178,179,182,183,188,189,190,191,194,195,203,204,205,218,219,220,231,232,233,238,240,241,249) have mixed types. Specify dtype option on import or set low_memory=False.\n",
      "  df = pd.read_csv('nflData.csv', sep=\",\")\n"
     ]
    }
   ],
   "source": [
    "df = pd.read_csv('nflData.csv', sep=\",\")"
   ]
  },
  {
   "cell_type": "code",
   "execution_count": 3,
   "id": "7e85e257-ab72-45d8-8ff5-1d4ac88b7c89",
   "metadata": {},
   "outputs": [
    {
     "name": "stdout",
     "output_type": "stream",
     "text": [
      "Rows:  449371\n"
     ]
    }
   ],
   "source": [
    "print(\"Rows: \",len(df))"
   ]
  },
  {
   "cell_type": "code",
   "execution_count": 4,
   "id": "7b9d92a4-0d8d-49f0-80be-f5e3c100cf20",
   "metadata": {},
   "outputs": [],
   "source": [
    "df = df[(df.play_type == \"run\")|(df.play_type==\"pass\")]"
   ]
  },
  {
   "cell_type": "code",
   "execution_count": 5,
   "id": "1f8b1fea-e932-48a4-bd90-88d89aeaa1ec",
   "metadata": {},
   "outputs": [],
   "source": [
    "df['play_type'] = df.apply(lambda x: 1 if x.play_type == \"pass\" else 0, axis=1)"
   ]
  },
  {
   "cell_type": "code",
   "execution_count": 6,
   "id": "5e123b81-61d9-49db-ad47-cf27bd80e590",
   "metadata": {},
   "outputs": [
    {
     "name": "stdout",
     "output_type": "stream",
     "text": [
      "...0...\n",
      "...10000...\n",
      "...20000...\n",
      "...30000...\n",
      "...40000...\n",
      "...50000...\n",
      "...60000...\n",
      "...70000...\n",
      "...80000...\n",
      "...90000...\n",
      "...100000...\n",
      "...110000...\n",
      "...120000...\n",
      "...130000...\n",
      "...140000...\n",
      "...150000...\n",
      "...160000...\n",
      "...170000...\n",
      "...180000...\n",
      "...190000...\n",
      "...200000...\n",
      "...210000...\n",
      "...220000...\n",
      "...230000...\n",
      "...240000...\n",
      "...250000...\n",
      "...260000...\n",
      "...270000...\n",
      "...280000...\n",
      "...290000...\n",
      "...300000...\n",
      "...310000...\n",
      "[186677, 132692]\n"
     ]
    }
   ],
   "source": [
    "passes = 0\n",
    "runs = 0\n",
    "\n",
    "for r in range(len(df)):\n",
    "    if(r%10000 == 0):\n",
    "        print(f\"...{r}...\")\n",
    "    play = df.iloc[r]\n",
    "    # print(f\"\\nPlay ID: {play['play_id']}\")\n",
    "    if play.play_type == 0:\n",
    "        runs+=1\n",
    "    else:\n",
    "        passes+=1\n",
    "\n",
    "        \n",
    "totals = [passes, runs]\n",
    "print(totals)"
   ]
  },
  {
   "cell_type": "code",
   "execution_count": 7,
   "id": "b8eb2fbb-3daa-459a-af59-1d6b22c1fbb5",
   "metadata": {},
   "outputs": [
    {
     "data": {
      "image/png": "[encoded data removed]",
      "text/plain": [
       "<Figure size 640x480 with 1 Axes>"
      ]
     },
     "metadata": {},
     "output_type": "display_data"
    }
   ],
   "source": [
    "winning = [\"Pass\", \"Run\"]\n",
    "colors = [\"blue\", \"red\", \"gray\"]\n",
    "plt.bar(winning, totals, color=colors)\n",
    "plt.title('Pass vs. Run')\n",
    "plt.xlabel('Play Type')\n",
    "plt.ylabel('Total Plays')\n",
    "plt.show()"
   ]
  },
  {
   "cell_type": "code",
   "execution_count": null,
   "id": "634c72d4-c399-48e3-a796-5bc6a7f97d61",
   "metadata": {},
   "outputs": [],
   "source": []
  }
 ],
 "metadata": {
  "kernelspec": {
   "display_name": "Python 3 (ipykernel)",
   "language": "python",
   "name": "python3"
  },
  "language_info": {
   "codemirror_mode": {
    "name": "ipython",
    "version": 3
   },
   "file_extension": ".py",
   "mimetype": "text/x-python",
   "name": "python",
   "nbconvert_exporter": "python",
   "pygments_lexer": "ipython3",
   "version": "3.9.13"
  }
 },
 "nbformat": 4,
 "nbformat_minor": 5
}
