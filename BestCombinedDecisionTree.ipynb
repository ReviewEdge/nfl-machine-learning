{
 "cells": [
  {
   "cell_type": "code",
   "execution_count": 1,
   "id": "a19e9d6c-e86d-427c-8148-73410af56d93",
   "metadata": {},
   "outputs": [],
   "source": [
    "%matplotlib inline\n",
    "\n",
    "# Essentials: Data Cleansing and ETL\n",
    "import pandas as pd\n",
    "import numpy as np\n",
    "\n",
    "# Plotting\n",
    "import matplotlib.pyplot as plt\n",
    "import matplotlib.patches as patches\n",
    "from matplotlib.legend_handler import HandlerLine2D\n",
    "\n",
    "from sklearn.tree import DecisionTreeClassifier\n",
    "\n",
    "from sklearn.metrics import roc_curve, auc # good for evaluation of binary classification problems\n",
    "from sklearn.model_selection import train_test_split"
   ]
  },
  {
   "cell_type": "code",
   "execution_count": 2,
   "id": "78660738-641c-4bdd-9b8f-ef0014b9aeae",
   "metadata": {},
   "outputs": [
    {
     "name": "stderr",
     "output_type": "stream",
     "text": [
      "C:\\Users\\RICHARDSONLG20\\AppData\\Local\\Temp\\ipykernel_27564\\104963401.py:1: DtypeWarning: Columns (42,166,167,168,169,174,175,178,179,182,183,188,189,190,191,194,195,203,204,205,218,219,220,231,232,233,238,240,241,249) have mixed types. Specify dtype option on import or set low_memory=False.\n",
      "  df = pd.read_csv('nflData.csv', sep=\",\")\n"
     ]
    }
   ],
   "source": [
    "df = pd.read_csv('nflData.csv', sep=\",\")"
   ]
  },
  {
   "cell_type": "code",
   "execution_count": 3,
   "id": "7e85e257-ab72-45d8-8ff5-1d4ac88b7c89",
   "metadata": {},
   "outputs": [
    {
     "name": "stdout",
     "output_type": "stream",
     "text": [
      "Rows:  449371\n"
     ]
    }
   ],
   "source": [
    "print(\"Rows: \",len(df))"
   ]
  },
  {
   "cell_type": "code",
   "execution_count": 8,
   "id": "7b9d92a4-0d8d-49f0-80be-f5e3c100cf20",
   "metadata": {},
   "outputs": [],
   "source": [
    "# take the dataframe for plays above and define particular columns we want\n",
    "play_attr = ['game_id','qtr','game_seconds_remaining','yardline_100','ydstogo','drive','down','play_type','goal_to_go',\n",
    "             'posteam','defteam','posteam_score', 'defteam_score', 'score_differential','posteam_timeouts_remaining','no_score_prob',\n",
    "             'opp_fg_prob','opp_safety_prob','home_team', 'rushing_mean', 'passing_mean']\n",
    "plays = df[play_attr]\n",
    "\n",
    "df = df[(df.play_type == \"run\")|(df.play_type==\"pass\")]"
   ]
  },
  {
   "cell_type": "code",
   "execution_count": 7,
   "id": "1f8b1fea-e932-48a4-bd90-88d89aeaa1ec",
   "metadata": {},
   "outputs": [],
   "source": [
    "plays['play_type'] = plays.apply(lambda x: 1 if x.play_type == \"pass\" else 0, axis=1)"
   ]
  },
  {
   "cell_type": "code",
   "execution_count": null,
   "id": "786db87e-66c4-4c74-9d6f-b697ab778f28",
   "metadata": {},
   "outputs": [
    {
     "data": {
      "text/html": [
       "<div>\n",
       "<style scoped>\n",
       "    .dataframe tbody tr th:only-of-type {\n",
       "        vertical-align: middle;\n",
       "    }\n",
       "\n",
       "    .dataframe tbody tr th {\n",
       "        vertical-align: top;\n",
       "    }\n",
       "\n",
       "    .dataframe thead th {\n",
       "        text-align: right;\n",
       "    }\n",
       "</style>\n",
       "<table border=\"1\" class=\"dataframe\">\n",
       "  <thead>\n",
       "    <tr style=\"text-align: right;\">\n",
       "      <th></th>\n",
       "      <th>game_id</th>\n",
       "      <th>qtr</th>\n",
       "      <th>game_seconds_remaining</th>\n",
       "      <th>yardline_100</th>\n",
       "      <th>ydstogo</th>\n",
       "      <th>drive</th>\n",
       "      <th>down</th>\n",
       "      <th>play_type</th>\n",
       "      <th>goal_to_go</th>\n",
       "      <th>posteam</th>\n",
       "      <th>...</th>\n",
       "      <th>score_differential</th>\n",
       "      <th>posteam_timeouts_remaining</th>\n",
       "      <th>no_score_prob</th>\n",
       "      <th>opp_fg_prob</th>\n",
       "      <th>opp_safety_prob</th>\n",
       "      <th>rushing_mean</th>\n",
       "      <th>passing_mean</th>\n",
       "      <th>Home</th>\n",
       "      <th>UpByTwoScoresBool</th>\n",
       "      <th>UpByThreeScoresBool</th>\n",
       "    </tr>\n",
       "  </thead>\n",
       "  <tbody>\n",
       "    <tr>\n",
       "      <th>1</th>\n",
       "      <td>2009091000</td>\n",
       "      <td>1</td>\n",
       "      <td>3593</td>\n",
       "      <td>58</td>\n",
       "      <td>10</td>\n",
       "      <td>1</td>\n",
       "      <td>1</td>\n",
       "      <td>1</td>\n",
       "      <td>0</td>\n",
       "      <td>PIT</td>\n",
       "      <td>...</td>\n",
       "      <td>0</td>\n",
       "      <td>3.0</td>\n",
       "      <td>0</td>\n",
       "      <td>3</td>\n",
       "      <td>2</td>\n",
       "      <td>3</td>\n",
       "      <td>5</td>\n",
       "      <td>1</td>\n",
       "      <td>0</td>\n",
       "      <td>0</td>\n",
       "    </tr>\n",
       "    <tr>\n",
       "      <th>2</th>\n",
       "      <td>2009091000</td>\n",
       "      <td>1</td>\n",
       "      <td>3556</td>\n",
       "      <td>53</td>\n",
       "      <td>5</td>\n",
       "      <td>1</td>\n",
       "      <td>2</td>\n",
       "      <td>0</td>\n",
       "      <td>0</td>\n",
       "      <td>PIT</td>\n",
       "      <td>...</td>\n",
       "      <td>0</td>\n",
       "      <td>3.0</td>\n",
       "      <td>0</td>\n",
       "      <td>2</td>\n",
       "      <td>2</td>\n",
       "      <td>3</td>\n",
       "      <td>5</td>\n",
       "      <td>1</td>\n",
       "      <td>0</td>\n",
       "      <td>0</td>\n",
       "    </tr>\n",
       "    <tr>\n",
       "      <th>3</th>\n",
       "      <td>2009091000</td>\n",
       "      <td>1</td>\n",
       "      <td>3515</td>\n",
       "      <td>56</td>\n",
       "      <td>8</td>\n",
       "      <td>1</td>\n",
       "      <td>3</td>\n",
       "      <td>1</td>\n",
       "      <td>0</td>\n",
       "      <td>PIT</td>\n",
       "      <td>...</td>\n",
       "      <td>0</td>\n",
       "      <td>3.0</td>\n",
       "      <td>0</td>\n",
       "      <td>3</td>\n",
       "      <td>3</td>\n",
       "      <td>3</td>\n",
       "      <td>5</td>\n",
       "      <td>1</td>\n",
       "      <td>0</td>\n",
       "      <td>0</td>\n",
       "    </tr>\n",
       "    <tr>\n",
       "      <th>4</th>\n",
       "      <td>2009091000</td>\n",
       "      <td>1</td>\n",
       "      <td>3507</td>\n",
       "      <td>56</td>\n",
       "      <td>8</td>\n",
       "      <td>1</td>\n",
       "      <td>4</td>\n",
       "      <td>0</td>\n",
       "      <td>0</td>\n",
       "      <td>PIT</td>\n",
       "      <td>...</td>\n",
       "      <td>0</td>\n",
       "      <td>3.0</td>\n",
       "      <td>1</td>\n",
       "      <td>4</td>\n",
       "      <td>3</td>\n",
       "      <td>3</td>\n",
       "      <td>5</td>\n",
       "      <td>1</td>\n",
       "      <td>0</td>\n",
       "      <td>0</td>\n",
       "    </tr>\n",
       "    <tr>\n",
       "      <th>5</th>\n",
       "      <td>2009091000</td>\n",
       "      <td>1</td>\n",
       "      <td>3496</td>\n",
       "      <td>98</td>\n",
       "      <td>10</td>\n",
       "      <td>2</td>\n",
       "      <td>1</td>\n",
       "      <td>0</td>\n",
       "      <td>0</td>\n",
       "      <td>TEN</td>\n",
       "      <td>...</td>\n",
       "      <td>0</td>\n",
       "      <td>3.0</td>\n",
       "      <td>1</td>\n",
       "      <td>4</td>\n",
       "      <td>4</td>\n",
       "      <td>26</td>\n",
       "      <td>35</td>\n",
       "      <td>0</td>\n",
       "      <td>0</td>\n",
       "      <td>0</td>\n",
       "    </tr>\n",
       "  </tbody>\n",
       "</table>\n",
       "<p>5 rows × 23 columns</p>\n",
       "</div>"
      ],
      "text/plain": [
       "      game_id  qtr  game_seconds_remaining  yardline_100  ydstogo  drive  \\\n",
       "1  2009091000    1                    3593            58       10      1   \n",
       "2  2009091000    1                    3556            53        5      1   \n",
       "3  2009091000    1                    3515            56        8      1   \n",
       "4  2009091000    1                    3507            56        8      1   \n",
       "5  2009091000    1                    3496            98       10      2   \n",
       "\n",
       "   down  play_type  goal_to_go posteam  ... score_differential  \\\n",
       "1     1          1           0     PIT  ...                  0   \n",
       "2     2          0           0     PIT  ...                  0   \n",
       "3     3          1           0     PIT  ...                  0   \n",
       "4     4          0           0     PIT  ...                  0   \n",
       "5     1          0           0     TEN  ...                  0   \n",
       "\n",
       "   posteam_timeouts_remaining  no_score_prob  opp_fg_prob  opp_safety_prob  \\\n",
       "1                         3.0              0            3                2   \n",
       "2                         3.0              0            2                2   \n",
       "3                         3.0              0            3                3   \n",
       "4                         3.0              1            4                3   \n",
       "5                         3.0              1            4                4   \n",
       "\n",
       "   rushing_mean  passing_mean  Home  UpByTwoScoresBool  UpByThreeScoresBool  \n",
       "1             3             5     1                  0                    0  \n",
       "2             3             5     1                  0                    0  \n",
       "3             3             5     1                  0                    0  \n",
       "4             3             5     1                  0                    0  \n",
       "5            26            35     0                  0                    0  \n",
       "\n",
       "[5 rows x 23 columns]"
      ]
     },
     "execution_count": 12,
     "metadata": {},
     "output_type": "execute_result"
    }
   ],
   "source": [
    "# drop unneeded columns to begin to de-clutter the set\n",
    "plays = plays[plays.down != 0]\n",
    "plays = plays.drop(columns=['home_team'])\n",
    "\n",
    "plays.head(5)"
   ]
  },
  {
   "cell_type": "code",
   "execution_count": 13,
   "id": "c46f48f4-6d09-4b6a-b916-b47531cc8d9a",
   "metadata": {},
   "outputs": [],
   "source": [
    "plays.dropna(inplace=True)"
   ]
  },
  {
   "cell_type": "code",
   "execution_count": 14,
   "id": "92993a9c-19a0-4c3e-915b-e5c39e2459f0",
   "metadata": {},
   "outputs": [],
   "source": [
    "plays = plays.reset_index()\n",
    "\n",
    "# Define our prediction data\n",
    "plays_predictors = [ 'UpByTwoScoresBool','UpByTwoScoresBool',\n",
    "'game_id','qtr','game_seconds_remaining','yardline_100',\n",
    "'ydstogo','drive','down', 'goal_to_go','posteam_score', 'defteam_score', \n",
    "'score_differential','posteam_timeouts_remaining',\n",
    "'no_score_prob','opp_fg_prob','opp_safety_prob', 'rushing_mean', 'passing_mean', 'Home',]\n",
    "\n",
    "X = plays[plays_predictors]\n",
    "\n",
    "# Define the prediction target: PlayType\n",
    "y = plays.play_type"
   ]
  },
  {
   "cell_type": "code",
   "execution_count": 15,
   "id": "2a4d2bc3-0aa8-43f1-b8d3-d06c1ff00fba",
   "metadata": {},
   "outputs": [],
   "source": [
    "# Split our data into training and test data for both our target and prediction data sets\n",
    "# random state = 0 means we get same result everytime if we want to change later\n",
    "train_X, val_X, train_y, val_y = train_test_split(X, y,random_state = 0)"
   ]
  },
  {
   "cell_type": "code",
   "execution_count": 16,
   "id": "ddeb8510-3bd8-4364-bf42-d5f65bcbc815",
   "metadata": {},
   "outputs": [
    {
     "name": "stdout",
     "output_type": "stream",
     "text": [
      "[0 1 0 0 1 1 1 1 0 0]\n"
     ]
    }
   ],
   "source": [
    "# print(np.any(np.isnan(train_x)))\n",
    "# print(np.all(np.isfinite(train_x)))\n",
    "\n",
    "# Decision Tree Classifier\n",
    "desc_tree = DecisionTreeClassifier()\n",
    "desc_tree.fit(train_X, train_y)\n",
    "\n",
    "dt_predictions = desc_tree.predict(val_X)\n",
    "\n",
    "print(dt_predictions[:10])\n",
    "\n",
    "false_positive_rate, true_positive_rate, thresholds = roc_curve(val_y, dt_predictions)\n",
    "dt_roc_auc = auc(false_positive_rate, true_positive_rate)"
   ]
  },
  {
   "cell_type": "code",
   "execution_count": 17,
   "id": "40bf2b5b-19a0-45de-ad6f-9f8098a0aa59",
   "metadata": {},
   "outputs": [
    {
     "name": "stdout",
     "output_type": "stream",
     "text": [
      "0.6304312766772155\n"
     ]
    }
   ],
   "source": [
    "print(dt_roc_auc)"
   ]
  },
  {
   "cell_type": "code",
   "execution_count": 18,
   "id": "234799c3-02c5-423a-8dbb-666dd88bb8a8",
   "metadata": {},
   "outputs": [
    {
     "data": {
      "text/plain": [
       "<AxesSubplot:xlabel='feature'>"
      ]
     },
     "execution_count": 18,
     "metadata": {},
     "output_type": "execute_result"
    },
    {
     "data": {
      "image/png": "[encoded data removed]",
      "text/plain": [
       "<Figure size 2000x900 with 1 Axes>"
      ]
     },
     "metadata": {},
     "output_type": "display_data"
    }
   ],
   "source": [
    "importances = pd.DataFrame({'feature':train_X.columns,'importance':np.round(desc_tree.feature_importances_,3)})\n",
    "importances = importances.sort_values('importance',ascending=False).set_index('feature')\n",
    "importances.plot.bar(figsize=(20,9),rot=90)"
   ]
  },
  {
   "cell_type": "code",
   "execution_count": 19,
   "id": "ae74ae38-eb94-4d70-a649-f1456c226213",
   "metadata": {},
   "outputs": [
    {
     "name": "stdout",
     "output_type": "stream",
     "text": [
      "Accuracy: 63.064661780456554%\n"
     ]
    }
   ],
   "source": [
    "def acc(predicted, actual):\n",
    "    correct = 0\n",
    "\n",
    "    for i in range(len(actual)-1):\n",
    "        if (predicted[i] == actual.iloc[i]):\n",
    "            correct+=1\n",
    "    print(f\"Accuracy: {(correct/len(actual))*100}%\")\n",
    "    \n",
    "acc(dt_predictions, val_y)"
   ]
  },
  {
   "cell_type": "code",
   "execution_count": null,
   "id": "634c72d4-c399-48e3-a796-5bc6a7f97d61",
   "metadata": {},
   "outputs": [],
   "source": []
  }
 ],
 "metadata": {
  "kernelspec": {
   "display_name": "Python 3 (ipykernel)",
   "language": "python",
   "name": "python3"
  },
  "language_info": {
   "codemirror_mode": {
    "name": "ipython",
    "version": 3
   },
   "file_extension": ".py",
   "mimetype": "text/x-python",
   "name": "python",
   "nbconvert_exporter": "python",
   "pygments_lexer": "ipython3",
   "version": "3.9.13"
  }
 },
 "nbformat": 4,
 "nbformat_minor": 5
}
